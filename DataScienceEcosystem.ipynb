{
 "cells": [
  {
   "cell_type": "markdown",
   "id": "50bcd979",
   "metadata": {},
   "source": [
    "# Data Science Tools and Ecosystem"
   ]
  },
  {
   "cell_type": "markdown",
   "id": "f119672c",
   "metadata": {},
   "source": [
    "### In this notebook, Data Science Tools and Ecosystem are summarized."
   ]
  },
  {
   "cell_type": "markdown",
   "id": "bed01a08",
   "metadata": {},
   "source": [
    "#### Objectives:\n",
    "- popular languages that Data Scientists \n",
    "- commonly used libraries used by Data Scientists\n",
    "- Data Science Tools"
   ]
  },
  {
   "cell_type": "markdown",
   "id": "3614e4f6",
   "metadata": {},
   "source": [
    "Some of the popular languages that Data Scientists use are:\n",
    "1. Python\n",
    "2. R\n",
    "3. Julia\n",
    "4. Scala"
   ]
  },
  {
   "cell_type": "markdown",
   "id": "21b1f0ae",
   "metadata": {},
   "source": [
    "Some of the commonly used libraries used by Data Scientists include:\n",
    "1. pandas\n",
    "2. numpy\n",
    "3. ggplot"
   ]
  },
  {
   "cell_type": "markdown",
   "id": "faed5efa",
   "metadata": {},
   "source": [
    "| **Data Science Tools**      |\n",
    "|:-----------------------------|\n",
    "| Jupyter Notebook |\n",
    "| RStudio |\n",
    "| VS Code with Python and R extensions |"
   ]
  },
  {
   "cell_type": "markdown",
   "id": "4e0b70cb",
   "metadata": {},
   "source": [
    "### Below are a few examples of evaluating arithmetic expressions in Python."
   ]
  },
  {
   "cell_type": "code",
   "execution_count": 3,
   "id": "c9f68f04",
   "metadata": {},
   "outputs": [
    {
     "data": {
      "text/plain": [
       "17"
      ]
     },
     "execution_count": 3,
     "metadata": {},
     "output_type": "execute_result"
    }
   ],
   "source": [
    "#This a simple arithmetic expression to mutiply then add integers.\n",
    "(3*4)+5"
   ]
  },
  {
   "cell_type": "code",
   "execution_count": 4,
   "id": "aee129fa",
   "metadata": {},
   "outputs": [
    {
     "data": {
      "text/plain": [
       "3.3333333333333335"
      ]
     },
     "execution_count": 4,
     "metadata": {},
     "output_type": "execute_result"
    }
   ],
   "source": [
    "# This will convert 200 minutes to hours by diving by 60.\n",
    "200/60"
   ]
  },
  {
   "cell_type": "markdown",
   "id": "2d15c697",
   "metadata": {},
   "source": [
    "### Author\n",
    "Vivek charan Malllavarapu"
   ]
  },
  {
   "cell_type": "code",
   "execution_count": null,
   "id": "9be088c0",
   "metadata": {},
   "outputs": [],
   "source": []
  }
 ],
 "metadata": {
  "kernelspec": {
   "display_name": "Python 3 (ipykernel)",
   "language": "python",
   "name": "python3"
  },
  "language_info": {
   "codemirror_mode": {
    "name": "ipython",
    "version": 3
   },
   "file_extension": ".py",
   "mimetype": "text/x-python",
   "name": "python",
   "nbconvert_exporter": "python",
   "pygments_lexer": "ipython3",
   "version": "3.11.5"
  }
 },
 "nbformat": 4,
 "nbformat_minor": 5
}
